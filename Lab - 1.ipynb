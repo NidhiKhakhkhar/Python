{
 "cells": [
  {
   "cell_type": "markdown",
   "metadata": {},
   "source": [
    "<a href='https://www.darshan.ac.in/'> <img src='https://www.darshan.ac.in/Content/media/DU_Logo.svg' width=\"250\" height=\"300\"/></a>\n",
    "<pre>\n",
    "<center><b><h1>Python Programming - 2101CS405</b></center>\n",
    "<center><b><h1>Lab - 1</b></center>    \n",
    "<pre>"
   ]
  },
  {
   "cell_type": "markdown",
   "metadata": {},
   "source": [
    "### 01) WAP to print “Hello World”"
   ]
  },
  {
   "cell_type": "code",
   "execution_count": 1,
   "metadata": {},
   "outputs": [
    {
     "name": "stdout",
     "output_type": "stream",
     "text": [
      "Hello world\n"
     ]
    }
   ],
   "source": [
    "print(\"Hello world\")"
   ]
  },
  {
   "cell_type": "markdown",
   "metadata": {},
   "source": [
    "### 02) WAP to print your address i) using single print ii) using multiple print"
   ]
  },
  {
   "cell_type": "code",
   "execution_count": 2,
   "metadata": {},
   "outputs": [
    {
     "name": "stdout",
     "output_type": "stream",
     "text": [
      "Krishna park, \n",
      "Sadhuvaswani Road, \n",
      "Rajkot\n",
      "Krishna park\n",
      "Sadhu Vaswani Road \n",
      "Rajkot\n"
     ]
    }
   ],
   "source": [
    "print(\"Krishna park, \\nSadhuvaswani Road, \\nRajkot\")\n",
    "print(\"Krishna park\")\n",
    "print(\"Sadhu Vaswani Road \")\n",
    "print(\"Rajkot\")"
   ]
  },
  {
   "cell_type": "markdown",
   "metadata": {},
   "source": [
    "### 03) WAP to print addition of 2 numbers (without input function)"
   ]
  },
  {
   "cell_type": "code",
   "execution_count": 3,
   "metadata": {},
   "outputs": [
    {
     "name": "stdout",
     "output_type": "stream",
     "text": [
      "30\n"
     ]
    }
   ],
   "source": [
    "n1=10\n",
    "n2=20\n",
    "number = n1+n2\n",
    "print(number)"
   ]
  },
  {
   "cell_type": "markdown",
   "metadata": {},
   "source": [
    "### 04) WAP to calculate and print average of 2 numbers (without input function)"
   ]
  },
  {
   "cell_type": "code",
   "execution_count": 4,
   "metadata": {
    "scrolled": true
   },
   "outputs": [
    {
     "name": "stdout",
     "output_type": "stream",
     "text": [
      "15.0\n"
     ]
    }
   ],
   "source": [
    "n1=10\n",
    "n2=20\n",
    "average = (n1+n2)/2\n",
    "\n",
    "print(average)\n"
   ]
  },
  {
   "cell_type": "markdown",
   "metadata": {},
   "source": [
    "### 05) WAP to add two number entered by user."
   ]
  },
  {
   "cell_type": "code",
   "execution_count": 6,
   "metadata": {},
   "outputs": [
    {
     "name": "stdout",
     "output_type": "stream",
     "text": [
      "Enter number 1 :10\n",
      "Enter number 2 :20\n"
     ]
    },
    {
     "data": {
      "text/plain": [
       "30"
      ]
     },
     "execution_count": 6,
     "metadata": {},
     "output_type": "execute_result"
    }
   ],
   "source": [
    "n1 = int(input(\"Enter number 1 :\")) \n",
    "n2 = int(input(\"Enter number 2 :\"))\n",
    "\n",
    "a = n1+n2 \n",
    "a"
   ]
  },
  {
   "cell_type": "markdown",
   "metadata": {},
   "source": [
    "### 06) WAP to calculate simple interest."
   ]
  },
  {
   "cell_type": "code",
   "execution_count": 7,
   "metadata": {},
   "outputs": [
    {
     "name": "stdout",
     "output_type": "stream",
     "text": [
      "Enter principle amount : 1000\n",
      "Enter rate of interest : 5\n",
      "Enter no. of years : 2\n"
     ]
    },
    {
     "data": {
      "text/plain": [
       "100.0"
      ]
     },
     "execution_count": 7,
     "metadata": {},
     "output_type": "execute_result"
    }
   ],
   "source": [
    "p = int(input(\"Enter principle amount : \"))\n",
    "r = int(input(\"Enter rate of interest : \"))\n",
    "n = int(input(\"Enter no. of years : \"))\n",
    "si = p*r*n/100\n",
    "si"
   ]
  },
  {
   "cell_type": "markdown",
   "metadata": {},
   "source": [
    "### 07) WAP Calculate Area and Circumfrence of Circle"
   ]
  },
  {
   "cell_type": "code",
   "execution_count": 8,
   "metadata": {},
   "outputs": [
    {
     "name": "stdout",
     "output_type": "stream",
     "text": [
      "Enter radius of circle : 15\n"
     ]
    },
    {
     "data": {
      "text/plain": [
       "94.2"
      ]
     },
     "execution_count": 8,
     "metadata": {},
     "output_type": "execute_result"
    }
   ],
   "source": [
    "r = int(input(\"Enter radius of circle : \"))\n",
    "circumference = 2*3.14*r\n",
    "circumference"
   ]
  },
  {
   "cell_type": "markdown",
   "metadata": {},
   "source": [
    "### 08) WAP to print Multiplication table of given number without using loops."
   ]
  },
  {
   "cell_type": "code",
   "execution_count": 9,
   "metadata": {},
   "outputs": [
    {
     "name": "stdout",
     "output_type": "stream",
     "text": [
      "enter a number : 2\n",
      "2\n",
      "4\n",
      "6\n",
      "8\n",
      "10\n",
      "12\n",
      "14\n",
      "16\n",
      "18\n",
      "20\n"
     ]
    }
   ],
   "source": [
    "n = int(input(\"enter a number : \"))\n",
    "print(n*1)\n",
    "print(n*2)\n",
    "print(n*3)\n",
    "print(n*4)\n",
    "print(n*5)\n",
    "print(n*6)\n",
    "print(n*7)\n",
    "print(n*8)\n",
    "print(n*9)\n",
    "print(n*10)"
   ]
  },
  {
   "cell_type": "markdown",
   "metadata": {},
   "source": [
    "### 09) WAP to calculate Area of Triangle (hint: a = h * b * 0.5)"
   ]
  },
  {
   "cell_type": "code",
   "execution_count": 10,
   "metadata": {},
   "outputs": [
    {
     "name": "stdout",
     "output_type": "stream",
     "text": [
      "Enter height of triangle : 10\n",
      "Enter base length of triangle : 10\n",
      "Area of triangle :  50.0\n"
     ]
    }
   ],
   "source": [
    "h = int(input(\"Enter height of triangle : \"))\n",
    "b = int(input(\"Enter base length of triangle : \"))\n",
    "area = h*b*0.5\n",
    "print(\"Area of triangle : \",area)"
   ]
  },
  {
   "cell_type": "markdown",
   "metadata": {},
   "source": [
    "### 10) WAP to convert degree to Fahrenheit and vice versa."
   ]
  },
  {
   "cell_type": "code",
   "execution_count": 12,
   "metadata": {},
   "outputs": [
    {
     "name": "stdout",
     "output_type": "stream",
     "text": [
      "Enter temperature in degree : 5\n",
      "Temperature in Fahrenheit is :  41.0\n",
      "Enter temperature in fahrenheit: 35\n",
      "Temperature in degree is :  1.6666666666666667\n"
     ]
    }
   ],
   "source": [
    "degree = int(input(\"Enter temperature in degree : \"))\n",
    "fahrenheit = degree*(9/5) + 32\n",
    "print(\"Temperature in Fahrenheit is : \",fahrenheit)\n",
    "\n",
    "f = int(input(\"Enter temperature in fahrenheit: \"))\n",
    "d = (f-32)*(5/9)\n",
    "print(\"Temperature in degree is : \",d)"
   ]
  },
  {
   "cell_type": "markdown",
   "metadata": {},
   "source": [
    "### 11) WAP to calculate total marks and Percentage."
   ]
  },
  {
   "cell_type": "code",
   "execution_count": 14,
   "metadata": {},
   "outputs": [
    {
     "name": "stdout",
     "output_type": "stream",
     "text": [
      "Enter marks of subject 1 : 80\n",
      "Enter marks of subject 2 : 90\n",
      "Enter marks of subject 3 : 85\n",
      "Total marks :  255\n",
      "Percentage :  85.0\n"
     ]
    }
   ],
   "source": [
    "a = int(input(\"Enter marks of subject 1 : \"))\n",
    "b = int(input(\"Enter marks of subject 2 : \"))\n",
    "c = int(input(\"Enter marks of subject 3 : \"))\n",
    "total = a+b+c\n",
    "print(\"Total marks : \",total)\n",
    "percentage = total/3\n",
    "print(\"Percentage : \",percentage)"
   ]
  },
  {
   "cell_type": "markdown",
   "metadata": {},
   "source": [
    "### 12) Compute distance between two points taking input from the user (Pythagorean Theorem)."
   ]
  },
  {
   "cell_type": "code",
   "execution_count": 15,
   "metadata": {},
   "outputs": [
    {
     "name": "stdout",
     "output_type": "stream",
     "text": [
      "Enter side 1 : 4\n",
      "Enter side 2 : 3\n"
     ]
    },
    {
     "data": {
      "text/plain": [
       "5.0"
      ]
     },
     "execution_count": 15,
     "metadata": {},
     "output_type": "execute_result"
    }
   ],
   "source": [
    "side1 = int(input(\"Enter side 1 : \"))\n",
    "side2 = int(input(\"Enter side 2 : \"))\n",
    "side3 = (side1**2 + side2**2)**0.5\n",
    "side3"
   ]
  },
  {
   "cell_type": "markdown",
   "metadata": {},
   "source": [
    "### 13) WAP to convert seconds into hours, minutes & seconds and print in HH:MM:SS\n",
    "[e.g. 10000 seconds mean 2:46:40 (2 Hours, 46 Minutes, 40Seconds)]"
   ]
  },
  {
   "cell_type": "code",
   "execution_count": 17,
   "metadata": {},
   "outputs": [
    {
     "name": "stdout",
     "output_type": "stream",
     "text": [
      "Enter time in seconds : 10000\n",
      "2 : 46 : 40\n"
     ]
    }
   ],
   "source": [
    "s = int(input(\"Enter time in seconds : \"))\n",
    "hours = s//3600\n",
    "s = s%3600\n",
    "minutes = s//60\n",
    "s = s%60\n",
    "\n",
    "print(hours,\":\",minutes,\":\",s)"
   ]
  },
  {
   "cell_type": "markdown",
   "metadata": {},
   "source": [
    "### 14) WAP to enter distance into kilometer and convert it into meter, feet,inches, and centimeter"
   ]
  },
  {
   "cell_type": "code",
   "execution_count": 20,
   "metadata": {},
   "outputs": [
    {
     "name": "stdout",
     "output_type": "stream",
     "text": [
      "Enter distance in kilometer : 1\n",
      "Meter :  1000\n",
      "Feet :  3280.04\n",
      "Inches :  39370.1\n",
      "Centimeter :  10000\n"
     ]
    }
   ],
   "source": [
    "km = int(input(\"Enter distance in kilometer : \"))\n",
    "meter = km*1000\n",
    "feet = km*3280.04\n",
    "inches = km*39370.1\n",
    "cm = km*10000\n",
    "\n",
    "print(\"Meter : \",meter)\n",
    "print(\"Feet : \",feet)\n",
    "print(\"Inches : \",inches)\n",
    "print(\"Centimeter : \",cm)\n"
   ]
  }
 ],
 "metadata": {
  "kernelspec": {
   "display_name": "Python 3 (ipykernel)",
   "language": "python",
   "name": "python3"
  },
  "language_info": {
   "codemirror_mode": {
    "name": "ipython",
    "version": 3
   },
   "file_extension": ".py",
   "mimetype": "text/x-python",
   "name": "python",
   "nbconvert_exporter": "python",
   "pygments_lexer": "ipython3",
   "version": "3.10.2"
  }
 },
 "nbformat": 4,
 "nbformat_minor": 4
}
