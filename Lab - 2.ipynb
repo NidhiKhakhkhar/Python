{
 "cells": [
  {
   "cell_type": "markdown",
   "metadata": {},
   "source": [
    "\n",
    "<a href='https://www.darshan.ac.in/'> <img src='https://www.darshan.ac.in/Content/media/DU_Logo.svg' width=\"250\" height=\"300\"/></a>\n",
    "<pre>\n",
    "<center><b><h1>Python Programming - 2101CS405</b></center>\n",
    "<center><b><h1>Lab - 2</b></center>    \n",
    "<pre>"
   ]
  },
  {
   "cell_type": "markdown",
   "metadata": {},
   "source": [
    "# if..else.."
   ]
  },
  {
   "cell_type": "markdown",
   "metadata": {},
   "source": [
    "### 01) WAP to check whether the given number is positive or negative."
   ]
  },
  {
   "cell_type": "code",
   "execution_count": 1,
   "metadata": {},
   "outputs": [
    {
     "name": "stdout",
     "output_type": "stream",
     "text": [
      "Enter a number : 12\n",
      "Number is positive\n"
     ]
    }
   ],
   "source": [
    "n = int(input(\"Enter a number : \"))\n",
    "if n>0:\n",
    "    print(\"Number is positive\")\n",
    "elif n<0:\n",
    "    print(\"Number is negative\")\n",
    "else:\n",
    "    print(\"Number is zero\")"
   ]
  },
  {
   "cell_type": "markdown",
   "metadata": {},
   "source": [
    "### 02) WAP to check whether the given number is odd or even"
   ]
  },
  {
   "cell_type": "code",
   "execution_count": 2,
   "metadata": {},
   "outputs": [
    {
     "name": "stdout",
     "output_type": "stream",
     "text": [
      "Enter a number5\n",
      "Number is odd\n"
     ]
    }
   ],
   "source": [
    "n = int(input(\"Enter a number\"))\n",
    "if n%2==0:\n",
    "    print(\"Number is even\")\n",
    "else:\n",
    "    print(\"Number is odd\")"
   ]
  },
  {
   "cell_type": "markdown",
   "metadata": {},
   "source": [
    "### 03) WAP to find out largest number from given two numbers using simple if and ternary operator."
   ]
  },
  {
   "cell_type": "code",
   "execution_count": 3,
   "metadata": {},
   "outputs": [
    {
     "name": "stdout",
     "output_type": "stream",
     "text": [
      "Enter 1st number : 10\n",
      "Enter 2nd number : 25\n",
      "Number  25  is largest\n"
     ]
    }
   ],
   "source": [
    "n1 = int(input(\"Enter 1st number : \"))\n",
    "n2 = int(input(\"Enter 2nd number : \"))\n",
    "\n",
    "if n1>n2:\n",
    "    print(\"Number \",n1, \" is largest\")\n",
    "else:\n",
    "    print(\"Number \",n2,\" is largest\")"
   ]
  },
  {
   "cell_type": "markdown",
   "metadata": {},
   "source": [
    "### 04) WAP to find out largest number from given three numbers."
   ]
  },
  {
   "cell_type": "code",
   "execution_count": 4,
   "metadata": {},
   "outputs": [
    {
     "name": "stdout",
     "output_type": "stream",
     "text": [
      "Enter 1st number : 10\n",
      "Enter 2nd number : 20\n",
      "Enter 3rd number : 15\n",
      "Number 20 is largest\n"
     ]
    }
   ],
   "source": [
    "n1 = int(input(\"Enter 1st number : \"))\n",
    "n2 = int(input(\"Enter 2nd number : \"))\n",
    "n3 = int(input(\"Enter 3rd number : \"))\n",
    "if n1>n2:\n",
    "    if n1>n3:\n",
    "        print(\"Number\",n1,\"is largest\")\n",
    "    else:\n",
    "        print(\"Number\",n3,\"is largest\")\n",
    "else:\n",
    "    if n2>n3:\n",
    "        print(\"Number\",n2,\"is largest\")\n",
    "    else:\n",
    "        print(\"Number\",n3,\"is largest\")"
   ]
  },
  {
   "cell_type": "markdown",
   "metadata": {},
   "source": [
    "### 05) WAP to check whether the given year is leap year or not.\n",
    "[If a year can be divisible by 4 but not divisible by 100 then it is leap year but if it is divisible by 400 then it is leap year]"
   ]
  },
  {
   "cell_type": "code",
   "execution_count": 5,
   "metadata": {},
   "outputs": [
    {
     "name": "stdout",
     "output_type": "stream",
     "text": [
      "Enter a year2003\n",
      "2003 is non-leap year\n"
     ]
    }
   ],
   "source": [
    "year = int(input(\"Enter a year\"))\n",
    "if year%4 == 0:\n",
    "    print(year, \"is leap year\")\n",
    "else:\n",
    "    print(year,\"is non-leap year\")"
   ]
  },
  {
   "cell_type": "markdown",
   "metadata": {},
   "source": [
    "### 06) WAP in python to display the name of the day according to the number given by the user"
   ]
  },
  {
   "cell_type": "code",
   "execution_count": 6,
   "metadata": {},
   "outputs": [
    {
     "name": "stdout",
     "output_type": "stream",
     "text": [
      "Enter number : 6\n",
      "Friday\n"
     ]
    }
   ],
   "source": [
    "n = int(input(\"Enter number : \"))\n",
    "if n==1:\n",
    "    print(\"Sunday\")\n",
    "elif n==2:\n",
    "    print(\"Monday\")\n",
    "elif n==3:\n",
    "    print(\"Tuesday\")\n",
    "elif n==4:\n",
    "    print(\"Wednesday\")\n",
    "elif n==5:\n",
    "    print(\"Thursday\")\n",
    "elif n==6:\n",
    "    print(\"Friday\")\n",
    "elif n==7:\n",
    "    print(\"Saturday\")\n",
    "else:\n",
    "    print(\"Enter valid number !!!\")"
   ]
  },
  {
   "cell_type": "markdown",
   "metadata": {},
   "source": [
    "### 07) WAP to implement simple calculator which performs (add,sub,mul,div) of two no. based on user input."
   ]
  },
  {
   "cell_type": "code",
   "execution_count": 7,
   "metadata": {},
   "outputs": [
    {
     "name": "stdout",
     "output_type": "stream",
     "text": [
      "Enter A : 10\n",
      "Enter B : 20\n",
      "Select operation : +,-,*,/ : +\n",
      "30\n"
     ]
    }
   ],
   "source": [
    "a = int(input(\"Enter A : \"))\n",
    "b = int(input(\"Enter B : \"))\n",
    "op = input(\"Select operation : +,-,*,/ : \")\n",
    "if op==\"+\":\n",
    "    print(a+b)\n",
    "elif op==\"-\":\n",
    "    print(a-b)\n",
    "elif op==\"*\":\n",
    "    print(a*b)\n",
    "elif op==\"/\":\n",
    "    print(a/b)\n",
    "else:\n",
    "    print(\"Enter valid operation !!!\")"
   ]
  },
  {
   "cell_type": "markdown",
   "metadata": {},
   "source": [
    "### 08) WAP to calculate electricity bill based on following criteria. Which takes the unit from the user.\n",
    "a. First 1 to 50 units – Rs. 2.60/unit</br>\n",
    "b. Next 50 to 100 units – Rs. 3.25/unit</br>\n",
    "c. Next 100 to 200 units – Rs. 5.26/unit</br>\n",
    "d. above 200 units – Rs. 8.45/unit"
   ]
  },
  {
   "cell_type": "code",
   "execution_count": 17,
   "metadata": {},
   "outputs": [
    {
     "name": "stdout",
     "output_type": "stream",
     "text": [
      "Enter units : 500\n",
      "Bill :  3353.5\n"
     ]
    }
   ],
   "source": [
    "unit = float(input(\"Enter units : \"))\n",
    "bill = 0\n",
    "\n",
    "if unit <= 50:\n",
    "    bill = ubit * 2.60\n",
    "    \n",
    "elif unit > 50 and unit <=100:\n",
    "    bill = ((unit - 50) * 3.25) + (50 * 2.60)\n",
    "\n",
    "elif unit >100 and unit <= 200:\n",
    "    bill = ((unit - 100) * 5.26) + (50 * 2.60) + (50 * 3.25)\n",
    "\n",
    "else:\n",
    "    bill = ((unit - 200) * 8.45) + (100 * 5.26) + (50 * 3.25) + (50 * 2.60)\n",
    "    \n",
    "print(\"Bill : \",bill)"
   ]
  },
  {
   "cell_type": "markdown",
   "metadata": {},
   "source": [
    "### 01) WAP to read marks of five subjects. Calculate percentage and print class accordingly. \n",
    "Fail below 35 </br>\n",
    "Pass Class between 35 to 45 </br>\n",
    "Second Class</br>\n",
    "between 45 to 60</br>\n",
    "First Class between 60 to 70</br> \n",
    "Distinction if more than 70"
   ]
  },
  {
   "cell_type": "code",
   "execution_count": 8,
   "metadata": {},
   "outputs": [
    {
     "name": "stdout",
     "output_type": "stream",
     "text": [
      "Enter marks of subject 1 : 80\n",
      "Enter marks of subject 2 : 85\n",
      "Enter marks of subject 3 : 95\n",
      "Enter marks of subject 4 : 95\n",
      "Enter marks of subject 5 : 89\n",
      "Distinction!!, Percentage:  88.8\n"
     ]
    }
   ],
   "source": [
    "m1 = int(input(\"Enter marks of subject 1 : \"))\n",
    "m2 = int(input(\"Enter marks of subject 2 : \"))\n",
    "m3 = int(input(\"Enter marks of subject 3 : \"))\n",
    "m4 = int(input(\"Enter marks of subject 4 : \"))\n",
    "m5 = int(input(\"Enter marks of subject 5 : \"))\n",
    "\n",
    "p = (m1+m2+m3+m4+m5)/5\n",
    "if p<35:\n",
    "    print(\"Fail, Percentage: \",p)\n",
    "elif p>35 and p<45:\n",
    "    print(\"Pass Class , Percentage: \",p)\n",
    "elif p>45 and p<60:\n",
    "    print(\"Second Class, Percentage: \",p)\n",
    "elif p>60 and p<70:\n",
    "    print(\"First Class, Percentage: \",p)\n",
    "else :\n",
    "    print(\"Distinction!!, Percentage: \",p)"
   ]
  },
  {
   "cell_type": "markdown",
   "metadata": {},
   "source": [
    "### 02) WAP to find out the Maximum and Minimum number from given 4 numbers."
   ]
  },
  {
   "cell_type": "code",
   "execution_count": 9,
   "metadata": {},
   "outputs": [
    {
     "name": "stdout",
     "output_type": "stream",
     "text": [
      "Enter 1st number : 1\n",
      "Enter 2nd number : 2\n",
      "Enter 3rd number : 3\n",
      "Enter 4th number : 4\n",
      "Maximum is :  4\n",
      "Minimum is :  1\n"
     ]
    }
   ],
   "source": [
    "a = int(input(\"Enter 1st number : \"))\n",
    "b = int(input(\"Enter 2nd number : \"))\n",
    "c = int(input(\"Enter 3rd number : \"))\n",
    "d = int(input(\"Enter 4th number : \"))\n",
    "\n",
    "if a>b and a>c and a>d:\n",
    "    print(\"Maximum is : \",a)\n",
    "elif b>c and b>d:\n",
    "    print(\"Maximum is : \",b)\n",
    "elif c>d:\n",
    "    print(\"Maximum is : \",c)\n",
    "else :\n",
    "    print(\"Maximum is : \",d)\n",
    "    \n",
    "if a<b and a<c and a<d:\n",
    "    print(\"Minimum is : \",a)\n",
    "elif b<c and b<d:\n",
    "    print(\"Minimum is : \",b)\n",
    "elif c<d:\n",
    "    print(\"Minimum is : \",c)\n",
    "else :\n",
    "    print(\"Minimum is : \",d)"
   ]
  },
  {
   "cell_type": "markdown",
   "metadata": {},
   "source": [
    "### 03) WAP to input an integer number and check the last digit of number is even or odd."
   ]
  },
  {
   "cell_type": "code",
   "execution_count": 10,
   "metadata": {},
   "outputs": [
    {
     "name": "stdout",
     "output_type": "stream",
     "text": [
      "Enter a number : 10\n",
      "Last number is even\n"
     ]
    }
   ],
   "source": [
    "n = int(input(\"Enter a number : \"))\n",
    "if n%2 == 0:\n",
    "    print(\"Last number is even\")\n",
    "else:\n",
    "    print(\"Last number is odd\")\n"
   ]
  },
  {
   "cell_type": "markdown",
   "metadata": {},
   "source": [
    "### 04) WAP to determine the roots of the equation ax2+bx+c=0."
   ]
  },
  {
   "cell_type": "code",
   "execution_count": 19,
   "metadata": {},
   "outputs": [
    {
     "name": "stdout",
     "output_type": "stream",
     "text": [
      "Enter a : 2.3\n",
      "Enter b : 4\n",
      "Enter c : 5.6\n",
      "x1 =  -0.8695652173913044  + i  1.2956229935435948\n",
      "x2 =  -0.8695652173913044  - i  1.2956229935435948\n"
     ]
    }
   ],
   "source": [
    "a = float(input(\"Enter a : \"))\n",
    "b = float(input(\"Enter b : \"))\n",
    "c = float(input(\"Enter c : \"))\n",
    "\n",
    "d = b**2 - 4*a*c\n",
    "D = d**0.5\n",
    "z = (-d)**0.5\n",
    "\n",
    "if d>0:\n",
    "    x1 = (-b + D) / (2 * a)\n",
    "    x2 = (-b - D) / (2 * a)\n",
    "    print(\"x1 : \",x1)\n",
    "    print(\"x2 : \",x2)\n",
    "\n",
    "if d == 0:\n",
    "    x1 = x2 = (-b)/(2 * a)\n",
    "    print(\"x1 = x2 : \",x1)\n",
    "    \n",
    "if d<0:\n",
    "    e = (-b)/(2 * a)\n",
    "    f = z/(2 * a)\n",
    "    print(\"x1 = \",e,\" + i \",f)\n",
    "    print(\"x2 = \",e,\" - i \",f)"
   ]
  },
  {
   "cell_type": "code",
   "execution_count": null,
   "metadata": {},
   "outputs": [],
   "source": []
  }
 ],
 "metadata": {
  "kernelspec": {
   "display_name": "Python 3 (ipykernel)",
   "language": "python",
   "name": "python3"
  },
  "language_info": {
   "codemirror_mode": {
    "name": "ipython",
    "version": 3
   },
   "file_extension": ".py",
   "mimetype": "text/x-python",
   "name": "python",
   "nbconvert_exporter": "python",
   "pygments_lexer": "ipython3",
   "version": "3.10.2"
  }
 },
 "nbformat": 4,
 "nbformat_minor": 4
}
