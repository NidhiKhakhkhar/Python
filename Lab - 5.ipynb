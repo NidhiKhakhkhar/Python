{
 "cells": [
  {
   "cell_type": "markdown",
   "metadata": {},
   "source": [
    "\n",
    "<a href='https://www.darshan.ac.in/'> <img src='https://www.darshan.ac.in/Content/media/DU_Logo.svg' width=\"250\" height=\"300\"/></a>\n",
    "<pre>\n",
    "<center><b><h1>Python Programming - 2101CS405</b></center>\n",
    "<center><b><h1>Lab - 5</b></center>    \n",
    "<pre>"
   ]
  },
  {
   "cell_type": "markdown",
   "metadata": {},
   "source": [
    "# list"
   ]
  },
  {
   "cell_type": "markdown",
   "metadata": {},
   "source": [
    "### 01) WAP to find sum of all the elements in List."
   ]
  },
  {
   "cell_type": "code",
   "execution_count": 43,
   "metadata": {},
   "outputs": [
    {
     "name": "stdout",
     "output_type": "stream",
     "text": [
      "Enter length of list5\n",
      "Enter list element : 1\n",
      "Enter list element : 2\n",
      "Enter list element : 3\n",
      "Enter list element : 4\n",
      "Enter list element : 5\n",
      "Sum of elements of given list is 15\n"
     ]
    }
   ],
   "source": [
    "list = []\n",
    "n = int(input(\"Enter length of list : \"))\n",
    "for i in range(1,n+1):\n",
    "    ele = int(input(\"Enter list element : \"))\n",
    "    list.append(ele)\n",
    "sum = 0\n",
    "for i in list:\n",
    "    sum += i\n",
    "print(f\"Sum of elements of given list is {sum}\")"
   ]
  },
  {
   "cell_type": "markdown",
   "metadata": {},
   "source": [
    "### 02) WAP to find largest element in a List."
   ]
  },
  {
   "cell_type": "code",
   "execution_count": 42,
   "metadata": {},
   "outputs": [
    {
     "name": "stdout",
     "output_type": "stream",
     "text": [
      "Enter length of list5\n",
      "Enter list element : 10\n",
      "Enter list element : 20\n",
      "Enter list element : 17\n",
      "Enter list element : 35\n",
      "Enter list element : 6\n",
      "Lastest element in [10, 20, 17, 35, 6] is : 35\n"
     ]
    }
   ],
   "source": [
    "list = []\n",
    "n = int(input(\"Enter length of list : \"))\n",
    "for i in range(1,n+1):\n",
    "    ele = int(input(\"Enter list element : \"))\n",
    "    list.append(ele)\n",
    "max = 0\n",
    "for i in list:\n",
    "    if max <= i:\n",
    "        max = i\n",
    "print(f\"Lastest element in {list} is : {max}\")"
   ]
  },
  {
   "cell_type": "markdown",
   "metadata": {},
   "source": [
    "### 03) WAP to split the List into two and append the first part to the end."
   ]
  },
  {
   "cell_type": "code",
   "execution_count": 40,
   "metadata": {},
   "outputs": [
    {
     "name": "stdout",
     "output_type": "stream",
     "text": [
      "Enter length of list5\n",
      "Enter list element : 10\n",
      "Enter list element : 20\n",
      "Enter list element : 30\n",
      "Enter list element : 40\n",
      "Enter list element : 50\n",
      "Old list is : [10, 20, 30, 40, 50]\n",
      "New list formed is : [30, 40, 50, 10, 20]\n"
     ]
    }
   ],
   "source": [
    "list = []\n",
    "n = int(input(\"Enter length of list : \"))\n",
    "for i in range(1,n+1):\n",
    "    ele = int(input(\"Enter list element : \"))\n",
    "    list.append(ele)\n",
    "list1 = list[:n//2:]\n",
    "list2 = list[n//2::]\n",
    "for i in list1:\n",
    "    list2.append(i)\n",
    "print(f\"Old list is : {list}\")\n",
    "print(f\"New list formed is : {list2}\")"
   ]
  },
  {
   "cell_type": "markdown",
   "metadata": {},
   "source": [
    "### 04) WAP to interchange first and last elements in list entered by a user."
   ]
  },
  {
   "cell_type": "code",
   "execution_count": 5,
   "metadata": {},
   "outputs": [
    {
     "name": "stdout",
     "output_type": "stream",
     "text": [
      "Enter length of list5\n",
      "Enter list element : 1\n",
      "Enter list element : 2\n",
      "Enter list element : 3\n",
      "Enter list element : 4\n",
      "Enter list element : 5\n",
      "List entered by user is ['1', '2', '3', '4', '5']\n",
      "New list obtained is ['5', '2', '3', '4', '1']\n"
     ]
    }
   ],
   "source": [
    "list = []\n",
    "n = int(input(\"Enter length of list : \"))\n",
    "for i in range(1,n+1):\n",
    "    ele = int(input(\"Enter list element : \"))\n",
    "    list.append(ele)\n",
    "print(f\"List entered by user is {list}\")\n",
    "\n",
    "temp = list[0]\n",
    "list[0] = list[n-1]\n",
    "list[n-1] = temp\n",
    "\n",
    "print(f\"New list obtained is {list}\")"
   ]
  },
  {
   "cell_type": "markdown",
   "metadata": {},
   "source": [
    "### 05) WAP to interchange the elements on two positions entered by a user."
   ]
  },
  {
   "cell_type": "code",
   "execution_count": 12,
   "metadata": {},
   "outputs": [
    {
     "name": "stdout",
     "output_type": "stream",
     "text": [
      "Enter length of list5\n",
      "Enter list element : 10\n",
      "Enter list element : 20\n",
      "Enter list element : 30\n",
      "Enter list element : 40\n",
      "Enter list element : 17\n",
      "List entered by user is : ['10', '20', '30', '40', '17']\n",
      "Enter 1st index : 5\n",
      "Enter 2nd index : 1\n",
      "New list obtained is : ['17', '20', '30', '40', '10']\n"
     ]
    }
   ],
   "source": [
    "list = []\n",
    "n = int(input(\"Enter length of list : \"))\n",
    "for i in range(1,n+1):\n",
    "    ele = int(input(\"Enter list element : \"))\n",
    "    list.append(ele)\n",
    "print(f\"List entered by user is : {list}\")\n",
    "n1 = int(input(\"Enter 1st index : \"))\n",
    "n2 = int(input(\"Enter 2nd index : \"))\n",
    "\n",
    "\n",
    "temp = list[n1-1]\n",
    "list[n1-1] = list[n2-1]\n",
    "list[n2-1] = temp\n",
    "print(f\"New list obtained is : {list}\")"
   ]
  },
  {
   "cell_type": "markdown",
   "metadata": {},
   "source": [
    "### 06) WAP to reverses the list entered by user."
   ]
  },
  {
   "cell_type": "code",
   "execution_count": 7,
   "metadata": {},
   "outputs": [
    {
     "name": "stdout",
     "output_type": "stream",
     "text": [
      "Enter length of list5\n",
      "Enter list element : 1\n",
      "Enter list element : 2\n",
      "Enter list element : 3\n",
      "Enter list element : 4\n",
      "Enter list element : 5\n",
      "Reversed list is : ['5', '4', '3', '2', '1']\n"
     ]
    }
   ],
   "source": [
    "list = []\n",
    "n = int(input(\"Enter length of list : \"))\n",
    "for i in range(1,n+1):\n",
    "    ele = int(input(\"Enter list element : \"))\n",
    "    list.append(ele)\n",
    "print(f\"Reversed list is : {list[::-1]}\")"
   ]
  },
  {
   "cell_type": "markdown",
   "metadata": {},
   "source": [
    "### 07) Python program to remove multiple elements from a list using list comprehension"
   ]
  },
  {
   "cell_type": "code",
   "execution_count": 2,
   "metadata": {},
   "outputs": [
    {
     "name": "stdout",
     "output_type": "stream",
     "text": [
      "Enter length of list : 5\n",
      "Enter list element : 1\n",
      "Enter list element : 2\n",
      "Enter list element : 3\n",
      "Enter list element : 4\n",
      "Enter list element : 5\n",
      "Enter a number whose multiple is to be removed : 2\n"
     ]
    },
    {
     "data": {
      "text/plain": [
       "[2, 4]"
      ]
     },
     "execution_count": 2,
     "metadata": {},
     "output_type": "execute_result"
    }
   ],
   "source": [
    "list = []\n",
    "n = int(input(\"Enter length of list : \"))\n",
    "for i in range(1,n+1):\n",
    "    ele = int(input(\"Enter list element : \"))\n",
    "    list.append(ele)\n",
    "n1 = int(input(\"Enter a number whose multiple is to be removed : \"))\n",
    "\n",
    "newlist = [x for x in list if x%n1 == 0]\n",
    "newlist"
   ]
  },
  {
   "cell_type": "markdown",
   "metadata": {},
   "source": [
    "### 08) Create a list from the specified start to end index of another list."
   ]
  },
  {
   "cell_type": "code",
   "execution_count": 14,
   "metadata": {},
   "outputs": [
    {
     "name": "stdout",
     "output_type": "stream",
     "text": [
      "Enter starting index : 4\n",
      "Enter ending index : 7\n",
      "New list obtained is : [40, 50, 60, 70]\n"
     ]
    }
   ],
   "source": [
    "list = []\n",
    "n = int(input(\"Enter length of list : \"))\n",
    "for i in range(1,n+1):\n",
    "    ele = int(input(\"Enter list element : \"))\n",
    "    list.append(ele)\n",
    "n1 = int(input(\"Enter starting index : \"))\n",
    "n2 = int(input(\"Enter ending index : \"))\n",
    "list1 = list[n1-1:n2]\n",
    "print(f\"New list obtained is : {list1}\")"
   ]
  },
  {
   "cell_type": "markdown",
   "metadata": {},
   "source": [
    "### 09) Input comma separated elements, convert into list and print."
   ]
  },
  {
   "cell_type": "code",
   "execution_count": 15,
   "metadata": {},
   "outputs": [
    {
     "name": "stdout",
     "output_type": "stream",
     "text": [
      "Enter comma separated elements : 1,2,3,4,5\n",
      "List : ['1', '2', '3', '4', '5']\n"
     ]
    }
   ],
   "source": [
    "n = input(\"Enter comma separated elements : \")\n",
    "list = n.split(',')\n",
    "print(f\"List : {list}\")"
   ]
  },
  {
   "cell_type": "markdown",
   "metadata": {},
   "source": [
    "### 01) WAP to count Even and Odd numbers in a List."
   ]
  },
  {
   "cell_type": "code",
   "execution_count": 18,
   "metadata": {},
   "outputs": [
    {
     "name": "stdout",
     "output_type": "stream",
     "text": [
      "Enter length of list5\n",
      "Enter list element : 1\n",
      "Enter list element : 2\n",
      "Enter list element : 3\n",
      "Enter list element : 4\n",
      "Enter list element : 5\n",
      "Even number is : 2\n",
      "Odd number is : 3\n"
     ]
    }
   ],
   "source": [
    "list = []\n",
    "odd=0\n",
    "even = 0\n",
    "n = int(input(\"Enter length of list\"))\n",
    "for i in range(1,n+1):\n",
    "    ele = int(input(\"Enter list element : \"))\n",
    "    list.append(ele)\n",
    "for i in list :\n",
    "    if i%2 == 0:\n",
    "        even += 1\n",
    "    else:\n",
    "        odd += 1\n",
    "print(f\"Even number is : {even}\")\n",
    "print(f\"Odd number is : {odd}\")"
   ]
  },
  {
   "cell_type": "markdown",
   "metadata": {},
   "source": [
    "### 02) Python program to find N largest and smallest elements from the list"
   ]
  },
  {
   "cell_type": "code",
   "execution_count": 27,
   "metadata": {},
   "outputs": [
    {
     "name": "stdout",
     "output_type": "stream",
     "text": [
      "Enter length of list5\n",
      "Enter list element : 10\n",
      "Enter list element : 65\n",
      "Enter list element : 20\n",
      "Enter list element : 12\n",
      "Enter list element : 3\n",
      "Enter number of largest/smallest number : 2\n",
      "Smallest : 3\n",
      "Largest : 65\n",
      "Smallest : 10\n",
      "Largest : 20\n"
     ]
    }
   ],
   "source": [
    "list = []\n",
    "n = int(input(\"Enter length of list : \"))\n",
    "for i in range(1,n+1):\n",
    "    ele = int(input(\"Enter list element : \"))\n",
    "    list.append(ele)\n",
    "list.sort()\n",
    "a = int(input(\"Enter number of largest/smallest number : \"))\n",
    "for i in range(0,a):\n",
    "    print(f\"Smallest : {list[0]}\")\n",
    "    print(f\"Largest : {list[-1]}\")\n",
    "    list.pop()\n",
    "    list.pop(0)"
   ]
  },
  {
   "cell_type": "markdown",
   "metadata": {},
   "source": [
    "### 03) WAP to print duplicates from a list of integers"
   ]
  },
  {
   "cell_type": "code",
   "execution_count": 2,
   "metadata": {},
   "outputs": [
    {
     "name": "stdout",
     "output_type": "stream",
     "text": [
      "Enter size of list : 5\n",
      "Enter list element : 1\n",
      "Enter list element : 1\n",
      "Enter list element : 1\n",
      "Enter list element : 2\n",
      "Enter list element : 3\n",
      "[1]\n"
     ]
    }
   ],
   "source": [
    "list = []\n",
    "list1 = []\n",
    "n = int(input(\"Enter size of list : \"))\n",
    "for ele in range(0,n):\n",
    "    ele = int(input(\"Enter list element : \"))\n",
    "    list.append(ele)\n",
    "for i in list:\n",
    "    if list.count(i)>1:\n",
    "        list1.append(i)\n",
    "        if list1.count(i) > 1:\n",
    "            list1.remove(i)\n",
    "\n",
    "print(list1)"
   ]
  },
  {
   "cell_type": "code",
   "execution_count": null,
   "metadata": {},
   "outputs": [],
   "source": []
  }
 ],
 "metadata": {
  "kernelspec": {
   "display_name": "Python 3 (ipykernel)",
   "language": "python",
   "name": "python3"
  },
  "language_info": {
   "codemirror_mode": {
    "name": "ipython",
    "version": 3
   },
   "file_extension": ".py",
   "mimetype": "text/x-python",
   "name": "python",
   "nbconvert_exporter": "python",
   "pygments_lexer": "ipython3",
   "version": "3.10.2"
  }
 },
 "nbformat": 4,
 "nbformat_minor": 4
}
