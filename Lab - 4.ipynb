{
 "cells": [
  {
   "cell_type": "markdown",
   "metadata": {},
   "source": [
    "\n",
    "<a href='https://www.darshan.ac.in/'> <img src='https://www.darshan.ac.in/Content/media/DU_Logo.svg' width=\"250\" height=\"300\"/></a>\n",
    "<pre>\n",
    "<center><b><h1>Python Programming - 2101CS405</b></center>\n",
    "<center><b><h1>Lab - 4</b></center>    \n",
    "<pre>"
   ]
  },
  {
   "cell_type": "markdown",
   "metadata": {},
   "source": [
    "# String"
   ]
  },
  {
   "cell_type": "markdown",
   "metadata": {},
   "source": [
    "### 01) WAP to check given string is palindrome or not."
   ]
  },
  {
   "cell_type": "code",
   "execution_count": 1,
   "metadata": {},
   "outputs": [
    {
     "name": "stdout",
     "output_type": "stream",
     "text": [
      "abcba is palimdrome\n"
     ]
    }
   ],
   "source": [
    "str = input(\"Enter a string\")\n",
    "rstr = str[::-1]\n",
    "if rstr == str:\n",
    "    print(\"{} is palimdrome\".format(str))"
   ]
  },
  {
   "cell_type": "markdown",
   "metadata": {},
   "source": [
    "### 02) WAP to reverse the words in given string."
   ]
  },
  {
   "cell_type": "code",
   "execution_count": 2,
   "metadata": {},
   "outputs": [
    {
     "name": "stdout",
     "output_type": "stream",
     "text": [
      "Reversed string of nidhi is ihdin\n"
     ]
    }
   ],
   "source": [
    "a = input(\"enter a string : \")\n",
    "b = a[::-1]\n",
    "print(\"Reversed string of {} is {}\".format(a,b))"
   ]
  },
  {
   "cell_type": "markdown",
   "metadata": {},
   "source": [
    "### 03) WAP to remove ith character from given string"
   ]
  },
  {
   "cell_type": "code",
   "execution_count": 8,
   "metadata": {},
   "outputs": [
    {
     "name": "stdout",
     "output_type": "stream",
     "text": [
      "Enter a string : nidhi\n",
      "Enter ith index : 3\n",
      "nihi\n"
     ]
    }
   ],
   "source": [
    "a = input(\"Enter a string : \")\n",
    "n = int(input(\"Enter ith index : \"))\n",
    "l = len(a)\n",
    "\n",
    "a1 = a[:n-1:]+a[n::] \n",
    "print(a1)"
   ]
  },
  {
   "cell_type": "markdown",
   "metadata": {},
   "source": [
    "### 04) WAP to find length of String without using len function."
   ]
  },
  {
   "cell_type": "code",
   "execution_count": 2,
   "metadata": {},
   "outputs": [
    {
     "name": "stdout",
     "output_type": "stream",
     "text": [
      "Enter a stringdfghjkl\n",
      "Length of dfghjkl is 7\n"
     ]
    }
   ],
   "source": [
    "a = input(\"Enter a string\")\n",
    "count = 0\n",
    "for i in a:\n",
    "    count += 1\n",
    "print(\"Length of {} is {}\".format(a,count))"
   ]
  },
  {
   "cell_type": "markdown",
   "metadata": {},
   "source": [
    "### 05) WAP to print even length word in string."
   ]
  },
  {
   "cell_type": "code",
   "execution_count": 12,
   "metadata": {},
   "outputs": [
    {
     "name": "stdout",
     "output_type": "stream",
     "text": [
      "Enter a stringbh hbjfdf jdjck\n",
      "bh\n",
      "hbjfdf\n"
     ]
    }
   ],
   "source": [
    "a =input(\"Enter a string\")\n",
    "b = a.split()\n",
    "temp = 0\n",
    "for i in b:\n",
    "    if (len(b[temp])%2 == 0):\n",
    "        print(b[temp])\n",
    "    temp += 1\n"
   ]
  },
  {
   "cell_type": "markdown",
   "metadata": {},
   "source": [
    "### 06) WAP to count numbers of vowels in given string."
   ]
  },
  {
   "cell_type": "code",
   "execution_count": 9,
   "metadata": {},
   "outputs": [
    {
     "name": "stdout",
     "output_type": "stream",
     "text": [
      "Enter a string : my name is nidhi\n",
      "Number of vowels is 5\n"
     ]
    }
   ],
   "source": [
    "a = input(\"Enter a string : \")\n",
    "c = ['a','e','i','o','u']\n",
    "count = 0\n",
    "for i in a:\n",
    "    if (i in c):\n",
    "        count += 1\n",
    "print(f\"Number of vowels is {count}\")"
   ]
  },
  {
   "cell_type": "markdown",
   "metadata": {},
   "source": [
    "### 07) WAP to convert given array to string."
   ]
  },
  {
   "cell_type": "code",
   "execution_count": 19,
   "metadata": {},
   "outputs": [
    {
     "name": "stdout",
     "output_type": "stream",
     "text": [
      "Enter a string : my\n",
      "Enter a string : name\n",
      "Enter a string : is \n",
      "Enter a string : nidhi\n",
      "Enter a string : khakhkhar\n",
      "my name is  nidhi khakhkhar "
     ]
    }
   ],
   "source": [
    "b= []\n",
    "for i in range(0,5):\n",
    "    a = input(\"Enter a string : \")\n",
    "    b.append(a)\n",
    "for i in b:\n",
    "    print(''.join(i),end=\" \")"
   ]
  },
  {
   "cell_type": "markdown",
   "metadata": {},
   "source": [
    "### 01) WAP to find out duplicate characters in given string."
   ]
  },
  {
   "cell_type": "code",
   "execution_count": 16,
   "metadata": {},
   "outputs": [
    {
     "name": "stdout",
     "output_type": "stream",
     "text": [
      "Enter a string : my name is nidhi\n",
      "Original letters : ['m', 'y', 'n', 'a', 'e', 'i', 's', 'd', 'h']\n",
      "Dublicate letters ['m', 'n', 'i', 'i']\n"
     ]
    }
   ],
   "source": [
    "a = input(\"Enter a string : \")\n",
    "original = []\n",
    "dublicate = []\n",
    "for i in a:\n",
    "    if i not in original:\n",
    "        if i.strip():\n",
    "            original.append(i)\n",
    "        \n",
    "    else:\n",
    "        if i.strip():\n",
    "            dublicate.append(i)\n",
    "        \n",
    "\n",
    "print(f\"Original letters : {original}\")  \n",
    "print(f\"Dublicate letters {dublicate}\")"
   ]
  },
  {
   "cell_type": "markdown",
   "metadata": {},
   "source": [
    "### 02) WAP to capitalize the first and last character of each word in a string."
   ]
  },
  {
   "cell_type": "code",
   "execution_count": 45,
   "metadata": {},
   "outputs": [
    {
     "name": "stdout",
     "output_type": "stream",
     "text": [
      "Enter a string : nidhi khakhkhar\n",
      "NidhI KhakhkhaR "
     ]
    }
   ],
   "source": [
    "a = input(\"Enter a string : \")\n",
    "b = a.split(\" \")\n",
    "word =\" \"\n",
    "for i in b:\n",
    "    word = i[0].upper() + i[1:len(i)-1] + i[len(i)-1].upper()\n",
    "    print(word,end=\" \")"
   ]
  },
  {
   "cell_type": "markdown",
   "metadata": {},
   "source": [
    "### 03) WAP to find Maximum frequency character in String."
   ]
  },
  {
   "cell_type": "code",
   "execution_count": 2,
   "metadata": {},
   "outputs": [
    {
     "name": "stdout",
     "output_type": "stream",
     "text": [
      "Enter a string : aabbc\n",
      "2\n",
      "['a', 'b']\n"
     ]
    }
   ],
   "source": [
    "a = input(\"Enter a string : \")\n",
    "max = 0\n",
    "l = []\n",
    "for i in a:\n",
    "    if max <= a.count(i):\n",
    "        max = a.count(i)\n",
    "        if i not in l:\n",
    "            l.append(i)\n",
    "            \n",
    "print(max)\n",
    "print(l)"
   ]
  },
  {
   "cell_type": "markdown",
   "metadata": {},
   "source": [
    "### 04) WAP to find Minimum frequency character in String."
   ]
  },
  {
   "cell_type": "code",
   "execution_count": 3,
   "metadata": {},
   "outputs": [
    {
     "name": "stdout",
     "output_type": "stream",
     "text": [
      "Enter a string : aabbc\n",
      "1\n",
      "['c']\n"
     ]
    }
   ],
   "source": [
    "a = input(\"Enter a string : \")\n",
    "l = []\n",
    "min = len(a)\n",
    "\n",
    "for i in a:\n",
    "    if min >= a.count(i):\n",
    "        min = a.count(i)\n",
    "        if i not in l :\n",
    "            l.append(i)\n",
    "        else:\n",
    "            l.remove(i)\n",
    "print(min)\n",
    "print(l)"
   ]
  },
  {
   "cell_type": "markdown",
   "metadata": {},
   "source": [
    "### 05) WAP to check if a given string is binary string or not"
   ]
  },
  {
   "cell_type": "code",
   "execution_count": 36,
   "metadata": {},
   "outputs": [
    {
     "name": "stdout",
     "output_type": "stream",
     "text": [
      "Enter a string : 1010110\n",
      "Binary string\n"
     ]
    }
   ],
   "source": [
    "a = input(\"Enter a string : \")\n",
    "if a.count('0') + a.count('1') == len(a):\n",
    "    print(\"Binary string\")\n",
    "else:\n",
    "    print(\"Non Binary String\")\n",
    "\n"
   ]
  }
 ],
 "metadata": {
  "kernelspec": {
   "display_name": "Python 3 (ipykernel)",
   "language": "python",
   "name": "python3"
  },
  "language_info": {
   "codemirror_mode": {
    "name": "ipython",
    "version": 3
   },
   "file_extension": ".py",
   "mimetype": "text/x-python",
   "name": "python",
   "nbconvert_exporter": "python",
   "pygments_lexer": "ipython3",
   "version": "3.10.2"
  },
  "vscode": {
   "interpreter": {
    "hash": "52a052e3a301ca4fcd5b706b6d03bd89e93dde096f5e29443f9fcef31b25e7af"
   }
  }
 },
 "nbformat": 4,
 "nbformat_minor": 4
}
