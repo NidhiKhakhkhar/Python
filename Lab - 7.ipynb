{
 "cells": [
  {
   "cell_type": "markdown",
   "metadata": {},
   "source": [
    "<a href='https://www.darshan.ac.in/'> <img src='https://www.darshan.ac.in/Content/media/DU_Logo.svg' width=\"250\" height=\"300\"/></a>\n",
    "<pre>\n",
    "<center><b><h1>Python Programming - 2101CS405</b></center>\n",
    "<center><b><h1>Lab - 7</b></center>    \n",
    "<pre>"
   ]
  },
  {
   "cell_type": "markdown",
   "metadata": {},
   "source": [
    "# Functions"
   ]
  },
  {
   "cell_type": "markdown",
   "metadata": {},
   "source": [
    "### 01) WAP to count simple interest using function."
   ]
  },
  {
   "cell_type": "code",
   "execution_count": 1,
   "metadata": {},
   "outputs": [
    {
     "name": "stdout",
     "output_type": "stream",
     "text": [
      "Enter principle amount : 10000\n",
      "Enter rate of interest : 5\n",
      "Enter number of years : 2\n",
      "1000.0\n"
     ]
    }
   ],
   "source": [
    "def  simple_interest(p,r,n):\n",
    "    print(p*r*n/100)\n",
    "p = int(input(\"Enter principle amount : \"))\n",
    "r = int(input(\"Enter rate of interest : \"))\n",
    "n = int(input(\"Enter number of years : \"))\n",
    "simple_interest(p,r,n)"
   ]
  },
  {
   "cell_type": "markdown",
   "metadata": {},
   "source": [
    "### 02) WAP that defines a function to add first n numbers."
   ]
  },
  {
   "cell_type": "code",
   "execution_count": 2,
   "metadata": {},
   "outputs": [
    {
     "name": "stdout",
     "output_type": "stream",
     "text": [
      "Enter nth number : 10\n",
      "Sum of n numbers is 55\n"
     ]
    }
   ],
   "source": [
    "def add_n_numbers(n):\n",
    "    ans = 0\n",
    "    for i in range(1,n+1):\n",
    "        ans += i\n",
    "    print(f\"Sum of n numbers is {ans}\")\n",
    "n = int(input(\"Enter nth number : \"))\n",
    "add_n_numbers(n)"
   ]
  },
  {
   "cell_type": "markdown",
   "metadata": {},
   "source": [
    "### 03) WAP to find maximum number from given two numbers using function."
   ]
  },
  {
   "cell_type": "code",
   "execution_count": 3,
   "metadata": {},
   "outputs": [
    {
     "name": "stdout",
     "output_type": "stream",
     "text": [
      "Enter 1st number : 5\n",
      "Enter 2nd number : 10\n",
      "10\n"
     ]
    }
   ],
   "source": [
    "def max_number(a,b):\n",
    "    print(a if a>b else b)\n",
    "n1 = int(input(\"Enter 1st number : \"))\n",
    "n2 = int(input(\"Enter 2nd number : \"))\n",
    "max_number(n1,n2)"
   ]
  },
  {
   "cell_type": "markdown",
   "metadata": {},
   "source": [
    "### 04) WAP that defines a function which returns 1 if the number is prime otherwise return 0."
   ]
  },
  {
   "cell_type": "code",
   "execution_count": 5,
   "metadata": {},
   "outputs": [
    {
     "name": "stdout",
     "output_type": "stream",
     "text": [
      "Enter a number : 5\n"
     ]
    },
    {
     "data": {
      "text/plain": [
       "1"
      ]
     },
     "execution_count": 5,
     "metadata": {},
     "output_type": "execute_result"
    }
   ],
   "source": [
    "def prime_number(n):\n",
    "    for i in range(2,n//2):\n",
    "        if n%i == 0:\n",
    "            return 0\n",
    "    else:\n",
    "        return 1\n",
    "n = int(input(\"Enter a number : \"))\n",
    "prime_number(n)"
   ]
  },
  {
   "cell_type": "markdown",
   "metadata": {},
   "source": [
    "### 05) Write a function called primes that takes an integer value as an argument and returns a list of all prime numbers up to that number."
   ]
  },
  {
   "cell_type": "code",
   "execution_count": 9,
   "metadata": {},
   "outputs": [
    {
     "name": "stdout",
     "output_type": "stream",
     "text": [
      "Enter a number : 25\n",
      "[1, 2, 3, 5, 7, 11, 13, 17, 19, 23]\n"
     ]
    }
   ],
   "source": [
    "def prime_number_list(n):\n",
    "    list = []\n",
    "    for i in range(1,n+1):\n",
    "        for j in range(2,i):\n",
    "            if i%j == 0:\n",
    "                break\n",
    "        else:\n",
    "            list.append(i)\n",
    "    print(list)\n",
    "n = int(input(\"Enter a number : \"))\n",
    "prime_number_list(n)"
   ]
  },
  {
   "cell_type": "markdown",
   "metadata": {},
   "source": [
    "### 06) WAP to generate Fibonacci series of N given number using function name fibbo. (e.g. 0 1 1 2 3 5 8...)"
   ]
  },
  {
   "cell_type": "code",
   "execution_count": 15,
   "metadata": {},
   "outputs": [
    {
     "name": "stdout",
     "output_type": "stream",
     "text": [
      "Enter a number : 10\n",
      "0\n",
      "1\n",
      "1\n",
      "2\n",
      "3\n",
      "5\n",
      "8\n",
      "13\n",
      "21\n",
      "34\n"
     ]
    }
   ],
   "source": [
    "def fibonacci(n):\n",
    "    a = 0\n",
    "    b = 1\n",
    "    sum = 0\n",
    "    for i in range(1,n+1):\n",
    "        print(sum)\n",
    "        a = b\n",
    "        b = sum\n",
    "        sum = a + b\n",
    "n = int(input(\"Enter a number : \"))\n",
    "fibonacci(n)"
   ]
  },
  {
   "cell_type": "markdown",
   "metadata": {},
   "source": [
    "### 07) WAP to find the factorial of a given number using recursion."
   ]
  },
  {
   "cell_type": "code",
   "execution_count": 19,
   "metadata": {},
   "outputs": [
    {
     "name": "stdout",
     "output_type": "stream",
     "text": [
      "Enter  a number : 5\n",
      "120\n"
     ]
    }
   ],
   "source": [
    "def factorial(n):\n",
    "    if (n==0 or n==1):\n",
    "        return n\n",
    "    return n * factorial(n-1)\n",
    "n = int(input(\"Enter  a number : \"))\n",
    "print(factorial(n))"
   ]
  },
  {
   "cell_type": "markdown",
   "metadata": {},
   "source": [
    "### 08) WAP to implement simple calculator using lamda function."
   ]
  },
  {
   "cell_type": "code",
   "execution_count": 22,
   "metadata": {},
   "outputs": [
    {
     "name": "stdout",
     "output_type": "stream",
     "text": [
      "Enter 1st number : 10\n",
      "Enter 2nd number : 20\n",
      "Enter an operation : +,- * /-\n",
      "10\n"
     ]
    }
   ],
   "source": [
    "calculator = lambda a,b,op : (a+b) if op=='+' else (b-a) if op=='-' else (a*b) if op=='*' else (b/a)\n",
    "n1 = int(input(\"Enter 1st number : \"))\n",
    "n2 = int(input(\"Enter 2nd number : \"))\n",
    "op = input(\"Enter an operation : +,- * /\")\n",
    "print(calculator(n1,n2,op))"
   ]
  },
  {
   "cell_type": "markdown",
   "metadata": {},
   "source": [
    "### 09)Write a Python program that accepts a hyphen-separated sequence of words as input and prints the words in a hyphen-separated sequence after sorting them alphabetically\n",
    "Sample Items : green-red-yellow-black-white <br>\n",
    "Expected Result : black-green-red-white-yellow"
   ]
  },
  {
   "cell_type": "code",
   "execution_count": 25,
   "metadata": {},
   "outputs": [
    {
     "name": "stdout",
     "output_type": "stream",
     "text": [
      "Enter a hyphen separated sequence : green-red-yellow-black-white\n",
      "black-green-red-white-yellow\n"
     ]
    }
   ],
   "source": [
    "def sorting_words(string1):\n",
    "    l = string1.split('-')\n",
    "    l.sort()\n",
    "    result = '-'.join(l)\n",
    "    return result\n",
    "print(sorting_words(input(\"Enter a hyphen separated sequence : \")))"
   ]
  },
  {
   "cell_type": "markdown",
   "metadata": {},
   "source": [
    "### 10) Write a python program to implement all function arguments type\n",
    "Positional arguments <Br>\n",
    "Default argument <Br>\n",
    "Keyword arguments (named arguments) <Br>\n",
    "Arbitrary arguments (variable-length arguments args and kwargs)"
   ]
  },
  {
   "cell_type": "code",
   "execution_count": 27,
   "metadata": {},
   "outputs": [
    {
     "name": "stdout",
     "output_type": "stream",
     "text": [
      "7\n",
      "9\n",
      "20\n",
      "10\n"
     ]
    }
   ],
   "source": [
    "def positional_arg(a,b):\n",
    "    return (a+b)\n",
    "def default_arg(a,b=10):\n",
    "    return a+b\n",
    "def keyword_arg(a,b):\n",
    "    return a+b\n",
    "def arbitrary_arg(*a):\n",
    "    ans = 0\n",
    "    for i in a:\n",
    "        ans += i\n",
    "    return ans\n",
    "print(positional_arg(3,4))\n",
    "print(keyword_arg(a=4,b=5))\n",
    "print(default_arg(10))\n",
    "print(arbitrary_arg(1,2,3,4))"
   ]
  },
  {
   "cell_type": "code",
   "execution_count": null,
   "metadata": {},
   "outputs": [],
   "source": []
  },
  {
   "cell_type": "markdown",
   "metadata": {},
   "source": [
    "### 01) WAP to calculate power of a number using recursion."
   ]
  },
  {
   "cell_type": "code",
   "execution_count": 28,
   "metadata": {},
   "outputs": [
    {
     "name": "stdout",
     "output_type": "stream",
     "text": [
      "Enter base number : 2\n",
      "Enter power number :10\n",
      "1024\n"
     ]
    }
   ],
   "source": [
    "def power(a,b):\n",
    "    if b==1:\n",
    "        return a\n",
    "    return a * power(a,b-1)\n",
    "a = int(input(\"Enter base number : \"))\n",
    "b = int(input(\"Enter power number :\"))\n",
    "print(power(a,b))"
   ]
  },
  {
   "cell_type": "markdown",
   "metadata": {},
   "source": [
    "### 02) WAP to count digits of a number using recursion."
   ]
  },
  {
   "cell_type": "code",
   "execution_count": 31,
   "metadata": {},
   "outputs": [
    {
     "name": "stdout",
     "output_type": "stream",
     "text": [
      "Enter a number : 1235\n",
      "4\n"
     ]
    }
   ],
   "source": [
    "def count_digit(n):\n",
    "    if n<10:\n",
    "        return 1\n",
    "    return 1 + count_digit(n//10)\n",
    "n = int(input(\"Enter a number : \"))\n",
    "print(count_digit(n))"
   ]
  },
  {
   "cell_type": "markdown",
   "metadata": {},
   "source": [
    "### 03) WAP to reverse an integer number using recursion."
   ]
  },
  {
   "cell_type": "code",
   "execution_count": 30,
   "metadata": {},
   "outputs": [
    {
     "name": "stdout",
     "output_type": "stream",
     "text": [
      "Enter a number : 1234\n",
      "4321\n"
     ]
    }
   ],
   "source": [
    "temp = 0\n",
    "def reverse_number(n):\n",
    "    if (n>0):\n",
    "        global temp\n",
    "        r = n%10\n",
    "        temp = (temp*10) + r\n",
    "        reverse_number(n//10)\n",
    "    return temp\n",
    "n = int(input(\"Enter a number : \"))\n",
    "print(reverse_number(n))"
   ]
  },
  {
   "cell_type": "markdown",
   "metadata": {},
   "source": [
    "### 04) WAP to convert decimal number into binary using recursion."
   ]
  },
  {
   "cell_type": "code",
   "execution_count": 32,
   "metadata": {},
   "outputs": [
    {
     "name": "stdout",
     "output_type": "stream",
     "text": [
      "Enter a number : 5\n",
      "101\n"
     ]
    }
   ],
   "source": [
    "def decimal_to_binary(n):\n",
    "    if n == 0:\n",
    "        return 0\n",
    "    return n%2 + 10*decimal_to_binary(n//2)\n",
    "n = int(input(\"Enter a number : \"))\n",
    "print(decimal_to_binary(n))"
   ]
  },
  {
   "cell_type": "code",
   "execution_count": null,
   "metadata": {},
   "outputs": [],
   "source": []
  }
 ],
 "metadata": {
  "kernelspec": {
   "display_name": "Python 3 (ipykernel)",
   "language": "python",
   "name": "python3"
  },
  "language_info": {
   "codemirror_mode": {
    "name": "ipython",
    "version": 3
   },
   "file_extension": ".py",
   "mimetype": "text/x-python",
   "name": "python",
   "nbconvert_exporter": "python",
   "pygments_lexer": "ipython3",
   "version": "3.10.2"
  }
 },
 "nbformat": 4,
 "nbformat_minor": 4
}
